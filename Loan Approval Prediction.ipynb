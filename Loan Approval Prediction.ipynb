# Loan Approval Prediction
import pandas as pd
import numpy as np
import seaborn as sns
import matplotlib.pyplot as plt
sns.set_style("whitegrid")
import warnings
warnings.filterwarnings('ignore')
# Data Loading
df = pd.read_csv('loan approval dataset.csv')
df.head()
# Data Exploration
df.shape
df.info()
df.describe().T.style.background_gradient(subset=['mean','std','50%','count'], cmap='PuBu')
# Data Cleaning & Preprocessing
df.duplicated().sum()
summary_info = pd.DataFrame({'Dtypes': df.dtypes, 'Nuique': df.nunique(), 'Null_Ratio': round(df.isnull().sum() / len(df) * 1000,2)})
summary_info
# check outliers
numeric_cols = df.drop('loan_status',axis=1).select_dtypes(include=np.number).columns
plt.figure(figsize=(14,8))
for i,col in enumerate(numeric_cols):
    plt.subplot(2,4,i+1)
    sns.boxplot(data=df,y=col,color='skyblue')
plt.tight_layout()
plt.show()
# Standardize text formatting
object_cols = df.select_dtypes(include='object')
for col in object_cols:
    df[col] = df[col].str.title()
# check outliers in object columns
df['person_home_ownership'].value_counts()
# Handle categorical value inconsistencies
df = df.replace({'person_home_ownership': {'Other': 'Rent'}})
# Feature Engineering: Creating new features based on domain knowledge
df['income_emp_ratio'] = df['person_income'] / (df['person_emp_exp'] + 1)
df['emp_stability'] = df['person_emp_exp'] / (df['person_age'] + 1)
### feature show how related age by loan amount
df['age_loan_ratio'] = df['person_age'] / (df['loan_amnt'] + 1)
df['income_loan_ratio'] = df['person_income'] / (df['loan_amnt'] + 1)
age_bins = [18, 25, 35, 50, 65]
age_labels = ['18-25', '26-35', '36-50', '51-65']
df['age_group'] = pd.cut(df['person_age'], bins=age_bins, labels=age_labels)
df['credit_score_group'] = pd.cut(df['credit_score'], bins=[0, 580, 670, 740, 800, 850], 
                                labels=['Poor', 'Fair', 'Good', 'Very Good', 'Excellent'])
df['loan_risk_category'] = pd.cut(df['loan_int_rate'], bins=[0, 10, 15, 20], 
                                    labels=['Low Risk', 'Medium Risk', 'High Risk'])
income_bins = [0, 30000, 60000, 90000, 120000, float('inf')]
income_labels = ['Very Low', 'Low', 'Medium', 'High', 'Very High']
df['income_group'] = pd.cut(df['person_income'], bins=income_bins, labels=income_labels)
# show correlations between the features
plt.figure(figsize=(12,8))
sns.heatmap(df.corr(numeric_only=True),annot=True,fmt='.2f',cmap='Blues')
plt.show()
# drop irrelevant features
df.drop(columns=['person_emp_exp'],axis=1,inplace=True)
plt.figure(figsize=(12,8))
sns.heatmap(df.corr(numeric_only=True),annot=True,fmt='.2f',cmap='Blues')
plt.show()
df
### calulate chisqaure between categorical features and target
from scipy.stats import chi2_contingency
categorical_cols = df.select_dtypes(include=['object','category']).columns
for col in categorical_cols:
    contingency_table = pd.crosstab(df[col], df['loan_status'])
    chi2, p, dof, expected = chi2_contingency(contingency_table)
    print(f"Chi-square test for {col}: p-value = {p}")
    if p < 0.05:
        print(f"{col} is significantly associated with loan_status \n")
    else:
        print(f"{col} is NOT significantly associated with loan_status\n")    
## Anova test for numerical features
from scipy.stats import f_oneway
numerical_cols = df.select_dtypes(include=np.number).columns.drop('loan_status')
for col in numerical_cols:
    groups = [df[df['loan_status'] == status][col] for status in df['loan_status'].unique()]
    f_stat, p_value = f_oneway(*groups)
    print(f"ANOVA test for {col}: p-value = {p_value}")
    if p_value < 0.05:
        print(f"{col} is significantly associated with loan_status")
    else:
        print(f"{col} is NOT significantly associated with loan_status")
# Data Visulaization
# Target variable distribution
plt.figure(figsize=(8, 6))
loan_status_counts = df['loan_status'].value_counts()
plt.pie(loan_status_counts, labels=['Non-Default', 'Default'], autopct='%1.2f%%', 
        colors=['lightblue', 'lightcoral'])
plt.title('Loan Status Distribution (Default vs Non-Default)')
plt.show()
# Numerical features distribution
numeric_cols = df.drop('loan_status',axis=1).select_dtypes(include=np.number).columns
n_numeric = len(numeric_cols)
n_cols = 3
n_rows = (n_numeric + n_cols - 1) // n_cols

fig, axes = plt.subplots(n_rows, n_cols, figsize=(15, 5*n_rows))
axes = axes.flatten()

for i, col in enumerate(numeric_cols):
    sns.histplot(data=df, x=col, kde=True, ax=axes[i], color='skyblue', edgecolor="black")
    axes[i].set_title(f'Distribution of {col}')

for j in range(i+1, len(axes)):
    fig.delaxes(axes[j])

plt.title("Distribution of Numerical Features")
plt.tight_layout()
plt.show()
# Distribution for Categorical Features
cat_cols = df.select_dtypes(include=['object','category']).columns
n_cat = len(cat_cols)
n_cols = 2
n_rows = (n_cat + n_cols - 1) // n_cols

fig, axes = plt.subplots(n_rows, n_cols, figsize=(15, 5*n_rows))
axes = axes.flatten()

for i, col in enumerate(cat_cols):
    sns.countplot(x=col, data=df, palette="Set1", ax=axes[i])
    axes[i].set_title(f"Distribution of {col}")
    axes[i].tick_params(axis="x", rotation=30)

for j in range(i+1, len(axes)):
    fig.delaxes(axes[j])

plt.tight_layout()
plt.show()
# Relationship between categorical features and target variable
fig, axes = plt.subplots(n_rows, n_cols, figsize=(18, 5*n_rows))
axes = axes.flatten()

for i, col in enumerate(cat_cols):
    sns.countplot(x=col, hue="loan_status", data=df, palette="Set1", ax=axes[i])
    axes[i].set_title(f"{col} vs loan_status")
    axes[i].tick_params(axis="x", rotation=30)

for j in range(len(cat_cols), len(axes)):
    axes[j].set_visible(False)

plt.tight_layout()
plt.show()
important_numeric = ['person_income', 'loan_amnt', 'loan_int_rate', 
                        'loan_percent_income', 'credit_score']

fig, ax = plt.subplots(ncols=2, nrows=5, figsize=(14, 28))

i=0
for cols in important_numeric:
    sns.kdeplot(x=df[cols], fill=True, alpha=0.4, hue =df.loan_status, 
                palette=('#248DC5', "#154989"), multiple='stack', ax=ax[i,0])
    
    sns.boxplot(data= df, y=cols, x='loan_status', ax=ax[i, 1],
               palette=('#248DC5', '#154989'))
    ax[i,0].set_xlabel(' ')
    ax[i,1].set_xlabel(' ')
    ax[i,1].set_ylabel(' ')
    ax[i,1].xaxis.set_tick_params(labelsize=14)
    ax[i,0].tick_params(left=False, labelleft=False)
    ax[i,0].set_ylabel(cols, fontsize=16)
    i=i+1
      
plt.show()
# Additional Analysis and Insights Generation
# Analysis by gender
import plotly.graph_objects as go
from plotly.subplots import make_subplots
gender_analysis = df.groupby('person_gender')['loan_status'].agg(['count', 'mean'])
gender_analysis.columns = ['Total_Loans', 'Default_Rate']
gender_analysis['Default_Rate'] = round(gender_analysis['Default_Rate'] * 100,2)
fig = make_subplots(
    rows=2, cols=2,
    subplot_titles=('Default Rate by Gender', 'Total Loans by Gender', 
                   'Default Rate vs Total Loans', 'Loan Distribution by Gender'),
    specs=[[{"type": "bar"}, {"type": "bar"}],
           [{"type": "scatter"}, {"type": "pie"}]],
    vertical_spacing=0.15,
    horizontal_spacing=0.1
)

# Color scheme for genders
gender_colors = {
    'Male': '#1f77b4',      # Blue
    'Female': '#ff7f0e',    # Orange
}

# Get colors for each gender
colors = [gender_colors.get(gender, '#d62728') for gender in gender_analysis.index]

# 1. Default Rate Bar Chart
fig.add_trace(
    go.Bar(
        x=gender_analysis.index,
        y=gender_analysis['Default_Rate'],
        name='Default Rate',
        marker_color=colors,
        text=gender_analysis['Default_Rate'],
        texttemplate='%{text:.1f}%',
        textposition='auto',
        marker_line=dict(width=2, color='darkgray')
    ),
    row=1, col=1
)

# 2. Total Loans Bar Chart
fig.add_trace(
    go.Bar(
        x=gender_analysis.index,
        y=gender_analysis['Total_Loans'],
        name='Total Loans',
        marker_color=colors,
        text=gender_analysis['Total_Loans'],
        texttemplate='%{text:,}',
        textposition='auto',
        marker_line=dict(width=2, color='darkgray')
    ),
    row=1, col=2
)

# 3. Scatter Plot: Default Rate vs Total Loans
fig.add_trace(
    go.Scatter(
        x=gender_analysis['Total_Loans'],
        y=gender_analysis['Default_Rate'],
        mode='markers+text',
        marker=dict(
            size=gender_analysis['Default_Rate'] * 3,
            color=colors,
            line=dict(width=2, color='darkgray')
        ),
        text=gender_analysis.index,
        textposition='middle right',
        name='Risk vs Volume',
    ),
    row=2, col=1
)

# 4. Pie Chart: Loan Distribution
fig.add_trace(
    go.Pie(
        labels=gender_analysis.index,
        values=gender_analysis['Total_Loans'],
        name='Loan Distribution',
        hole=0.4,
        marker=dict(colors=colors),
        textinfo='percent+label',
        hoverinfo='label+value+percent',
        hovertemplate='<b>%{label}</b><br>Loans: %{value:,}<br>Percentage: %{percent}<extra></extra>'
    ),
    row=2, col=2
)

# Update layout
fig.update_layout(
    title_text='Comprehensive Gender Analysis - Loan Performance',
    title_x=0.5,
    title_font=dict(size=20),
    height=800,
    width=1000,
    showlegend=False,
    plot_bgcolor='white',
    font=dict(size=12),
    annotations=[
        dict(
            text=f"Overall Default Rate: {gender_analysis['Default_Rate'].mean():.1f}%",
            x=0.5,
            y=1.05,
            xref="paper",
            yref="paper",
            showarrow=False,
            font=dict(size=14, color='darkred')
        )
    ]
)

# Update axes labels
fig.update_xaxes(title_text="Gender", row=1, col=1)
fig.update_yaxes(title_text="Default Rate (%)", row=1, col=1)
fig.update_xaxes(title_text="Gender", row=1, col=2)
fig.update_yaxes(title_text="Number of Loans", row=1, col=2)
fig.update_xaxes(title_text="Total Loans", row=2, col=1)
fig.update_yaxes(title_text="Default Rate (%)", row=2, col=1)

# Show the plot
fig.show()
# Analysis by education level
education_analysis = df.groupby('person_education')['loan_status'].agg(['count', 'mean']).sort_values('mean', ascending=False)
education_analysis.columns = ['Total_Loans', 'Default_Rate']
education_analysis['Default_Rate'] = round(education_analysis['Default_Rate'] * 100,2)
fig = make_subplots(
    rows=2, cols=2,
    subplot_titles=('Default Rate by Education Level', 'Total Loans by Education Level', 
                   'Default Rate vs Total Loans', 'Loan Distribution by Education'),
    specs=[[{"type": "bar"}, {"type": "bar"}],
           [{"type": "scatter"}, {"type": "pie"}]],
    vertical_spacing=0.15,
    horizontal_spacing=0.1
)

# 1. Default Rate Bar Chart
fig.add_trace(
    go.Bar(
        x=education_analysis.index,
        y=education_analysis['Default_Rate'],
        name='Default Rate',
        marker_color=education_analysis['Default_Rate'],
        marker_colorscale='RdYlGn_r',
        text=education_analysis['Default_Rate'],
        texttemplate='%{text:.1f}%',
        textposition='auto'
    ),
    row=1, col=1
)

# 2. Total Loans Bar Chart
fig.add_trace(
    go.Bar(
        x=education_analysis.index,
        y=education_analysis['Total_Loans'],
        name='Total Loans',
        marker_color='lightblue',
        text=education_analysis['Total_Loans'],
        texttemplate='%{text:,}',
        textposition='auto'
    ),
    row=1, col=2
)

# 3. Scatter Plot: Default Rate vs Total Loans
fig.add_trace(
    go.Scatter(
        x=education_analysis['Total_Loans'],
        y=education_analysis['Default_Rate'],
        mode='markers+text',
        marker=dict(
            size=education_analysis['Default_Rate']*2,
            color=education_analysis['Default_Rate'],
            colorscale='RdYlGn_r',
            showscale=True,
            colorbar=dict(title="Default Rate %")
        ),
        text=education_analysis.index,
        textposition='middle right',
        name='Risk vs Volume'
    ),
    row=2, col=1
)

# 4. Pie Chart: Loan Distribution
fig.add_trace(
    go.Pie(
        labels=education_analysis.index,
        values=education_analysis['Total_Loans'],
        name='Loan Distribution',
        hole=0.4,
        textinfo='percent+label',
        hoverinfo='label+value+percent'
    ),
    row=2, col=2
)

# Update layout
fig.update_layout(
    title_text='Comprehensive Education Level Analysis',
    title_x=0.5,
    height=800,
    width=1000,
    showlegend=False,
    plot_bgcolor='white',
    font=dict(size=12)
)

# Update axes labels
fig.update_xaxes(title_text="Education Level", row=1, col=1)
fig.update_yaxes(title_text="Default Rate (%)", row=1, col=1)
fig.update_xaxes(title_text="Education Level", row=1, col=2)
fig.update_yaxes(title_text="Number of Loans", row=1, col=2)
fig.update_xaxes(title_text="Total Loans", row=2, col=1)
fig.update_yaxes(title_text="Default Rate (%)", row=2, col=1)

# Show the plot
fig.show()
# Analysis by home ownership
home_analysis = df.groupby('person_home_ownership')['loan_status'].agg(['count', 'mean']).sort_values('mean', ascending=False)
home_analysis.columns = ['Total_Loans', 'Default_Rate']
home_analysis['Default_Rate'] = round(home_analysis['Default_Rate'] * 100,2)
fig = make_subplots(
    rows=2, cols=2,
    subplot_titles=('Default Rate by Home Ownership', 'Total Loans by Home Ownership', 
                   'Risk vs Volume Analysis', 'Loan Distribution by Home Ownership'),
    specs=[[{"type": "bar"}, {"type": "bar"}],
           [{"type": "scatter"}, {"type": "pie"}]],
    vertical_spacing=0.15,
    horizontal_spacing=0.1
)

# Color scheme for home ownership types
ownership_colors = {
    'Mortgage': '#1f77b4',    # Blue - typically most stable
    'Own': '#2ca02c',         # Green - fully owned
    'Rent': '#ff7f0e',        # Orange - renting
}

# Get colors for each ownership type
colors = [ownership_colors.get(ownership, '#9467bd') for ownership in home_analysis.index]

# 1. Default Rate Bar Chart (sorted by risk)
fig.add_trace(
    go.Bar(
        x=home_analysis.index,
        y=home_analysis['Default_Rate'],
        name='Default Rate',
        marker_color=colors,
        text=home_analysis['Default_Rate'],
        texttemplate='%{text:.1f}%',
        textposition='auto',
        marker_line=dict(width=2, color='darkgray'),
        hovertemplate='<b>%{x}</b><br>Default Rate: %{y:.1f}%<extra></extra>'
    ),
    row=1, col=1
)

# 2. Total Loans Bar Chart
fig.add_trace(
    go.Bar(
        x=home_analysis.index,
        y=home_analysis['Total_Loans'],
        name='Total Loans',
        marker_color=colors,
        text=home_analysis['Total_Loans'],
        texttemplate='%{text:,}',
        textposition='auto',
        marker_line=dict(width=2, color='darkgray'),
        hovertemplate='<b>%{x}</b><br>Total Loans: %{y:,}<extra></extra>'
    ),
    row=1, col=2
)

# 3. Scatter Plot: Default Rate vs Total Loans (Bubble Chart)
fig.add_trace(
    go.Scatter(
        x=home_analysis['Total_Loans'],
        y=home_analysis['Default_Rate'],
        mode='markers+text',
        marker=dict(
            size=home_analysis['Default_Rate'] * 4,  # Size by default rate
            color=colors,
            line=dict(width=2, color='darkgray'),
            opacity=0.8
        ),
        text=home_analysis.index,
        textposition='middle right',
        name='Risk vs Volume',
        hovertemplate='<b>%{text}</b><br>Total Loans: %{x:,}<br>Default Rate: %{y:.1f}%<extra></extra>'
    ),
    row=2, col=1
)

# 4. Pie Chart: Loan Distribution
fig.add_trace(
    go.Pie(
        labels=home_analysis.index,
        values=home_analysis['Total_Loans'],
        name='Loan Distribution',
        hole=0.4,
        marker=dict(colors=colors),
        textinfo='percent+label',
        hoverinfo='label+value+percent',
        hovertemplate='<b>%{label}</b><br>Loans: %{value:,}<br>Percentage: %{percent}<extra></extra>',
        pull=[0.1 if rate == home_analysis['Default_Rate'].max() else 0 for rate in home_analysis['Default_Rate']]
    ),
    row=2, col=2
)

# Update layout
fig.update_layout(
    title_text='Comprehensive Home Ownership Analysis - Loan Performance',
    title_x=0.5,
    title_font=dict(size=20),
    height=800,
    width=1000,
    showlegend=False,
    plot_bgcolor='white',
    font=dict(size=12),
    annotations=[
        dict(
            text=f"Overall Default Rate: {home_analysis['Default_Rate'].mean():.1f}%",
            x=0.5,
            y=1.05,
            xref="paper",
            yref="paper",
            showarrow=False,
            font=dict(size=14, color='darkred')
        )
    ]
)

# Update axes labels
fig.update_xaxes(title_text="Home Ownership Type", row=1, col=1)
fig.update_yaxes(title_text="Default Rate (%)", row=1, col=1)
fig.update_xaxes(title_text="Home Ownership Type", row=1, col=2)
fig.update_yaxes(title_text="Number of Loans", row=1, col=2)
fig.update_xaxes(title_text="Total Loans", row=2, col=1)
fig.update_yaxes(title_text="Default Rate (%)", row=2, col=1)

# Show the plot
fig.show()

# Analysis by loan purpose
intent_analysis = df.groupby('loan_intent')['loan_status'].agg(['count', 'mean']).sort_values('mean', ascending=False)
intent_analysis.columns = ['Total_Loans', 'Default_Rate']
intent_analysis['Default_Rate'] = round(intent_analysis['Default_Rate'] * 100,2)
fig = make_subplots(
    rows=2, cols=2,
    subplot_titles=('Default Rate by Loan Purpose', 'Total Loans by Loan Purpose', 
                   'Risk vs Volume Analysis', 'Loan Distribution by Purpose'),
    specs=[[{"type": "bar"}, {"type": "bar"}],
           [{"type": "scatter"}, {"type": "pie"}]],
    vertical_spacing=0.15,
    horizontal_spacing=0.1
)

# Color scheme for loan purposes (risk-based coloring)
intent_colors = {
    'Debt Consolidation': '#d62728',    # Red - typically higher risk
    'Personal': '#ff7f0e',              # Orange
    'Medical': '#9467bd',               # Purple
    'Venture': '#2ca02c',               # Green - typically lower risk
    'Education': '#1f77b4',             # Blue
    'Home Improvement': '#8c564b'       # Brown
}

# Get colors for each loan purpose
colors = [intent_colors.get(intent, '#17becf') for intent in intent_analysis.index]

# 1. Default Rate Bar Chart (sorted by risk)
fig.add_trace(
    go.Bar(
        x=intent_analysis.index,
        y=intent_analysis['Default_Rate'],
        name='Default Rate',
        marker_color=colors,
        text=intent_analysis['Default_Rate'],
        texttemplate='%{text:.1f}%',
        textposition='auto',
        marker_line=dict(width=2, color='darkgray'),
        hovertemplate='<b>%{x}</b><br>Default Rate: %{y:.1f}%<extra></extra>'
    ),
    row=1, col=1
)

# 2. Total Loans Bar Chart
fig.add_trace(
    go.Bar(
        x=intent_analysis.index,
        y=intent_analysis['Total_Loans'],
        name='Total Loans',
        marker_color=colors,
        text=intent_analysis['Total_Loans'],
        texttemplate='%{text:,}',
        textposition='auto',
        marker_line=dict(width=2, color='darkgray'),
        hovertemplate='<b>%{x}</b><br>Total Loans: %{y:,}<extra></extra>'
    ),
    row=1, col=2
)

# 3. Scatter Plot: Default Rate vs Total Loans (Bubble Chart)
fig.add_trace(
    go.Scatter(
        x=intent_analysis['Total_Loans'],
        y=intent_analysis['Default_Rate'],
        mode='markers+text',
        marker=dict(
            size=intent_analysis['Default_Rate'] * 4,  # Size by default rate
            color=colors,
            line=dict(width=2, color='darkgray'),
            opacity=0.8
        ),
        text=intent_analysis.index,
        textposition='middle right',
        name='Risk vs Volume',
        hovertemplate='<b>%{text}</b><br>Total Loans: %{x:,}<br>Default Rate: %{y:.1f}%<extra></extra>'
    ),
    row=2, col=1
)

# 4. Pie Chart: Loan Distribution
fig.add_trace(
    go.Pie(
        labels=intent_analysis.index,
        values=intent_analysis['Total_Loans'],
        name='Loan Distribution',
        hole=0.4,
        marker=dict(colors=colors),
        textinfo='percent+label',
        hoverinfo='label+value+percent',
        hovertemplate='<b>%{label}</b><br>Loans: %{value:,}<br>Percentage: %{percent}<extra></extra>',
        pull=[0.1 if rate == intent_analysis['Default_Rate'].max() else 0 for rate in intent_analysis['Default_Rate']]
    ),
    row=2, col=2
)

# Update layout
fig.update_layout(
    title_text='Comprehensive Loan Purpose Analysis - Risk Assessment',
    title_x=0.5,
    title_font=dict(size=20),
    height=800,
    width=1000,
    showlegend=False,
    plot_bgcolor='white',
    font=dict(size=12),
    annotations=[
        dict(
            text=f"Overall Default Rate: {intent_analysis['Default_Rate'].mean():.1f}%",
            x=0.5,
            y=1.05,
            xref="paper",
            yref="paper",
            showarrow=False,
            font=dict(size=14, color='darkred')
        )
    ]
)

# Update axes labels
fig.update_xaxes(title_text="Loan Purpose", row=1, col=1, tickangle=45)
fig.update_yaxes(title_text="Default Rate (%)", row=1, col=1)
fig.update_xaxes(title_text="Loan Purpose", row=1, col=2, tickangle=45)
fig.update_yaxes(title_text="Number of Loans", row=1, col=2)
fig.update_xaxes(title_text="Total Loans", row=2, col=1)
fig.update_yaxes(title_text="Default Rate (%)", row=2, col=1)

# Show the plot
fig.show()
# Analysis of income and default rate relationship
income_group_analysis = df.groupby('income_group')['loan_status'].agg(['count', 'mean'])
income_group_analysis.columns = ['Total_Loans', 'Default_Rate']
income_group_analysis['Default_Rate'] = round(income_group_analysis['Default_Rate'] * 100,2)
fig = make_subplots(
    rows=2, cols=2,
    subplot_titles=('Default Rate by Income Group', 'Total Loans by Income Group', 
                   'Risk vs Volume Analysis', 'Loan Distribution by Income Group'),
    specs=[[{"type": "bar"}, {"type": "bar"}],
           [{"type": "scatter"}, {"type": "pie"}]],
    vertical_spacing=0.15,
    horizontal_spacing=0.1
)

# Color scheme for income groups (gradient from red to green)
income_colors = {
    'Very Low': '#d62728',    # Red - highest risk
    'Low': '#ff7f0e',         # Orange
    'Medium': '#bcbd22',      # Yellow
    'High': '#2ca02c',        # Green
    'Very High': '#1f77b4'    # Blue - lowest risk
}

# Get colors for each income group
colors = [income_colors.get(group, '#17becf') for group in income_group_analysis.index]

# 1. Default Rate Bar Chart (ordered by income level)
fig.add_trace(
    go.Bar(
        x=income_group_analysis.index,
        y=income_group_analysis['Default_Rate'],
        name='Default Rate',
        marker_color=colors,
        text=income_group_analysis['Default_Rate'],
        texttemplate='%{text:.1f}%',
        textposition='auto',
        marker_line=dict(width=2, color='darkgray'),
        hovertemplate='<b>%{x} Income</b><br>Default Rate: %{y:.1f}%<extra></extra>'
    ),
    row=1, col=1
)

# 2. Total Loans Bar Chart
fig.add_trace(
    go.Bar(
        x=income_group_analysis.index,
        y=income_group_analysis['Total_Loans'],
        name='Total Loans',
        marker_color=colors,
        text=income_group_analysis['Total_Loans'],
        texttemplate='%{text:,}',
        textposition='auto',
        marker_line=dict(width=2, color='darkgray'),
        hovertemplate='<b>%{x} Income</b><br>Total Loans: %{y:,}<extra></extra>'
    ),
    row=1, col=2
)

# 3. Scatter Plot: Default Rate vs Total Loans (Bubble Chart)
fig.add_trace(
    go.Scatter(
        x=income_group_analysis['Total_Loans'],
        y=income_group_analysis['Default_Rate'],
        mode='markers+text',
        marker=dict(
            size=income_group_analysis['Default_Rate'] * 3,  # Size by default rate
            color=colors,
            line=dict(width=2, color='darkgray'),
            opacity=0.8
        ),
        text=income_group_analysis.index,
        textposition='middle right',
        name='Risk vs Volume',
        hovertemplate='<b>%{text} Income</b><br>Total Loans: %{x:,}<br>Default Rate: %{y:.1f}%<extra></extra>'
    ),
    row=2, col=1
)

# 4. Pie Chart: Loan Distribution
fig.add_trace(
    go.Pie(
        labels=income_group_analysis.index,
        values=income_group_analysis['Total_Loans'],
        name='Loan Distribution',
        hole=0.4,
        marker=dict(colors=colors),
        textinfo='percent+label',
        hoverinfo='label+value+percent',
        hovertemplate='<b>%{label} Income</b><br>Loans: %{value:,}<br>Percentage: %{percent}<extra></extra>'
    ),
    row=2, col=2
)

# Update layout
fig.update_layout(
    title_text='Comprehensive Income Group Analysis - Risk Assessment',
    title_x=0.5,
    title_font=dict(size=20),
    height=800,
    width=1000,
    showlegend=False,
    plot_bgcolor='white',
    font=dict(size=12),
    annotations=[
        dict(
            text=f"Overall Default Rate: {income_group_analysis['Default_Rate'].mean():.1f}%",
            x=0.5,
            y=1.05,
            xref="paper",
            yref="paper",
            showarrow=False,
            font=dict(size=14, color='darkred')
        )
    ]
)

# Update axes labels
fig.update_xaxes(title_text="Income Group", row=1, col=1)
fig.update_yaxes(title_text="Default Rate (%)", row=1, col=1)
fig.update_xaxes(title_text="Income Group", row=1, col=2)
fig.update_yaxes(title_text="Number of Loans", row=1, col=2)
fig.update_xaxes(title_text="Total Loans", row=2, col=1)
fig.update_yaxes(title_text="Default Rate (%)", row=2, col=1)

# Show the plot
fig.show()
# Analysis of credit score and default rate relationship
credit_analysis = df.groupby('credit_score_group')['loan_status'].agg(['count', 'mean'])
credit_analysis.columns = ['Total_Loans', 'Default_Rate']
credit_analysis['Default_Rate'] = round(credit_analysis['Default_Rate'] * 100,2)
fig = make_subplots(
    rows=2, cols=2,
    subplot_titles=('Default Rate by Credit Score', 'Total Loans by Credit Score', 
                   'Risk vs Volume Analysis', 'Loan Distribution by Credit Score'),
    specs=[[{"type": "bar"}, {"type": "bar"}],
           [{"type": "scatter"}, {"type": "pie"}]],
    vertical_spacing=0.15,
    horizontal_spacing=0.1
)

# Color scheme for credit score groups (traffic light system)
credit_colors = {
    'Poor': '#d62728',        # Red - highest risk
    'Fair': '#ff7f0e',        # Orange
    'Good': '#bcbd22',        # Yellow
    'Very Good': '#2ca02c',   # Green
    'Excellent': '#1f77b4'    # Blue - lowest risk
}

# Get colors for each credit score group
colors = [credit_colors.get(group, '#17becf') for group in credit_analysis.index]

# 1. Default Rate Bar Chart (ordered by credit quality)
fig.add_trace(
    go.Bar(
        x=credit_analysis.index,
        y=credit_analysis['Default_Rate'],
        name='Default Rate',
        marker_color=colors,
        text=credit_analysis['Default_Rate'],
        texttemplate='%{text:.1f}%',
        textposition='auto',
        marker_line=dict(width=2, color='darkgray'),
        hovertemplate='<b>%{x} Credit</b><br>Default Rate: %{y:.1f}%<extra></extra>'
    ),
    row=1, col=1
)

# 2. Total Loans Bar Chart
fig.add_trace(
    go.Bar(
        x=credit_analysis.index,
        y=credit_analysis['Total_Loans'],
        name='Total Loans',
        marker_color=colors,
        text=credit_analysis['Total_Loans'],
        texttemplate='%{text:,}',
        textposition='auto',
        marker_line=dict(width=2, color='darkgray'),
        hovertemplate='<b>%{x} Credit</b><br>Total Loans: %{y:,}<extra></extra>'
    ),
    row=1, col=2
)

# 3. Scatter Plot: Default Rate vs Total Loans (Bubble Chart)
fig.add_trace(
    go.Scatter(
        x=credit_analysis['Total_Loans'],
        y=credit_analysis['Default_Rate'],
        mode='markers+text',
        marker=dict(
            size=credit_analysis['Default_Rate'] * 3,  # Size by default rate
            color=colors,
            line=dict(width=2, color='darkgray'),
            opacity=0.8
        ),
        text=credit_analysis.index,
        textposition='middle right',
        name='Risk vs Volume',
        hovertemplate='<b>%{text} Credit</b><br>Total Loans: %{x:,}<br>Default Rate: %{y:.1f}%<extra></extra>'
    ),
    row=2, col=1
)

# 4. Pie Chart: Loan Distribution
fig.add_trace(
    go.Pie(
        labels=credit_analysis.index,
        values=credit_analysis['Total_Loans'],
        name='Loan Distribution',
        hole=0.4,
        marker=dict(colors=colors),
        textinfo='percent+label',
        hoverinfo='label+value+percent',
        hovertemplate='<b>%{label} Credit</b><br>Loans: %{value:,}<br>Percentage: %{percent}<extra></extra>'
    ),
    row=2, col=2
)

# Update layout
fig.update_layout(
    title_text='Comprehensive Credit Score Analysis - Risk Assessment',
    title_x=0.5,
    title_font=dict(size=20),
    height=800,
    width=1000,
    showlegend=False,
    plot_bgcolor='white',
    font=dict(size=12),
    annotations=[
        dict(
            text=f"Overall Default Rate: {credit_analysis['Default_Rate'].mean():.1f}%",
            x=0.5,
            y=1.05,
            xref="paper",
            yref="paper",
            showarrow=False,
            font=dict(size=14, color='darkred')
        )
    ]
)

# Update axes labels
fig.update_xaxes(title_text="Credit Score Group", row=1, col=1)
fig.update_yaxes(title_text="Default Rate (%)", row=1, col=1)
fig.update_xaxes(title_text="Credit Score Group", row=1, col=2)
fig.update_yaxes(title_text="Number of Loans", row=1, col=2)
fig.update_xaxes(title_text="Total Loans", row=2, col=1)
fig.update_yaxes(title_text="Default Rate (%)", row=2, col=1)

# Show the plot
fig.show()
# Risk analysis by loan amount and interest rate
risk_analysis = df.groupby('loan_risk_category')['loan_status'].agg(['count', 'mean'])
risk_analysis.columns = ['Total_Loans', 'Default_Rate']
risk_analysis['Default_Rate'] = round(risk_analysis['Default_Rate'] * 100,2)
fig = make_subplots(
    rows=2, cols=2,
    subplot_titles=('Default Rate by Risk Category', 'Total Loans by Risk Category', 
                   'Risk vs Volume Analysis', 'Portfolio Distribution by Risk'),
    specs=[[{"type": "bar"}, {"type": "bar"}],
           [{"type": "scatter"}, {"type": "pie"}]],
    vertical_spacing=0.15,
    horizontal_spacing=0.1
)

# Color scheme for risk categories (traffic light system)
risk_colors = {
    'Low Risk': '#2ca02c',        # Green
    'Medium Risk': '#bcbd22',     # Yellow
    'High Risk': '#ff7f0e',       # Orange
    'Very High Risk': '#d62728'   # Red
}

# Get colors for each risk category
colors = [risk_colors.get(category, '#17becf') for category in risk_analysis.index]

# 1. Default Rate Bar Chart (ordered by risk level)
fig.add_trace(
    go.Bar(
        x=risk_analysis.index,
        y=risk_analysis['Default_Rate'],
        name='Default Rate',
        marker_color=colors,
        text=risk_analysis['Default_Rate'],
        texttemplate='%{text:.1f}%',
        textposition='auto',
        marker_line=dict(width=2, color='darkgray'),
        hovertemplate='<b>%{x}</b><br>Default Rate: %{y:.1f}%<extra></extra>'
    ),
    row=1, col=1
)

# 2. Total Loans Bar Chart
fig.add_trace(
    go.Bar(
        x=risk_analysis.index,
        y=risk_analysis['Total_Loans'],
        name='Total Loans',
        marker_color=colors,
        text=risk_analysis['Total_Loans'],
        texttemplate='%{text:,}',
        textposition='auto',
        marker_line=dict(width=2, color='darkgray'),
        hovertemplate='<b>%{x}</b><br>Total Loans: %{y:,}<extra></extra>'
    ),
    row=1, col=2
)

# 3. Scatter Plot: Default Rate vs Total Loans (Bubble Chart)
fig.add_trace(
    go.Scatter(
        x=risk_analysis['Total_Loans'],
        y=risk_analysis['Default_Rate'],
        mode='markers+text',
        marker=dict(
            size=risk_analysis['Default_Rate'] * 3,  # Size by default rate
            color=colors,
            line=dict(width=2, color='darkgray'),
            opacity=0.8
        ),
        text=risk_analysis.index,
        textposition='middle right',
        name='Risk vs Volume',
        hovertemplate='<b>%{text}</b><br>Total Loans: %{x:,}<br>Default Rate: %{y:.1f}%<extra></extra>'
    ),
    row=2, col=1
)

# 4. Pie Chart: Portfolio Distribution
fig.add_trace(
    go.Pie(
        labels=risk_analysis.index,
        values=risk_analysis['Total_Loans'],
        name='Portfolio Distribution',
        hole=0.4,
        marker=dict(colors=colors),
        textinfo='percent+label',
        hoverinfo='label+value+percent',
        hovertemplate='<b>%{label}</b><br>Loans: %{value:,}<br>Percentage: %{percent}<extra></extra>',
        pull=[0.1 if rate == risk_analysis['Default_Rate'].max() else 0 for rate in risk_analysis['Default_Rate']]
    ),
    row=2, col=2
)

# Update layout
fig.update_layout(
    title_text='Comprehensive Risk Category Analysis - Portfolio Assessment',
    title_x=0.5,
    title_font=dict(size=20),
    height=800,
    width=1000,
    showlegend=False,
    plot_bgcolor='white',
    font=dict(size=12),
    annotations=[
        dict(
            text=f"Overall Default Rate: {risk_analysis['Default_Rate'].mean():.1f}%",
            x=0.5,
            y=1.05,
            xref="paper",
            yref="paper",
            showarrow=False,
            font=dict(size=14, color='darkred')
        )
    ]
)

# Update axes labels
fig.update_xaxes(title_text="Risk Category", row=1, col=1)
fig.update_yaxes(title_text="Default Rate (%)", row=1, col=1)
fig.update_xaxes(title_text="Risk Category", row=1, col=2)
fig.update_yaxes(title_text="Number of Loans", row=1, col=2)
fig.update_xaxes(title_text="Total Loans", row=2, col=1)
fig.update_yaxes(title_text="Default Rate (%)", row=2, col=1)

# Show the plot
fig.show()
gender_income_analysis = df.groupby('person_gender')['person_income'].agg(['mean']).reset_index()
gender_income_analysis.columns = ['person_gender','Average_income']
fig = go.Figure(data=[
    go.Bar(name='Average Income BY Gender', 
           x=gender_income_analysis['person_gender'].astype(str), 
           y=gender_income_analysis['Average_income'],
           marker_opacity=1,
           marker={'color': gender_income_analysis['Average_income'],
                   'colorscale': 'Rainbow'})
    ])

fig.update_traces(texttemplate='%{y:.3s}', textposition='inside')

fig.update_layout(title='Average Income BY Gender',
                  title_x=0.45,
                  xaxis_title="person_gender",
                  yaxis_title="Average_income",
                  plot_bgcolor='white')
fig.show()
gender_loans_amount= df.groupby('person_gender',as_index=False)['loan_amnt'].agg(['mean'])
gender_loans_amount.columns = ['person_gender','Average_loan_amount']
fig = go.Figure(data=[
    go.Bar(name='Average Loans Amount BY Gender', 
           x=gender_loans_amount['person_gender'].astype(str), 
           y=gender_loans_amount['Average_loan_amount'],
           marker_opacity=1,
           marker={'color': gender_loans_amount['Average_loan_amount'],
                   'colorscale': 'Rainbow'})
    ])

fig.update_traces(texttemplate='%{y:.3s}', textposition='inside')

fig.update_layout(title='Average Loans Amount BY Gender',
                  title_x=0.45,
                  xaxis_title="person_gender",
                  yaxis_title="Average_income",
                  plot_bgcolor='white')
fig.show()
risk_income_crosstab = pd.crosstab(df['income_group'], df['loan_risk_category'], normalize='index') * 100

risk_income_crosstab.plot(kind='bar', stacked=True, figsize=(10,6), colormap='coolwarm')
plt.title('Loan Risk Profile by Income Group (%)')
plt.ylabel('% of Loans')
plt.xlabel('Income Group')
plt.legend(title='Risk Category')
plt.xticks(rotation=0)
plt.grid(axis='y', linestyle='--', alpha=0.7)
plt.show()
plt.figure(figsize=(10, 6))
sns.barplot(data=df, x='loan_intent', y='loan_int_rate', hue='loan_status', palette='Set1', ci=None)
plt.title('Average Interest Rate by Loan Purpose (Grouped by Loan Status)')
plt.xlabel('Loan Purpose')
plt.ylabel('Interest Rate (%)')
plt.xticks(rotation=45)
plt.legend(title='Loan Status')
plt.show()
plt.figure(figsize=(8, 6))
sns.scatterplot(data=df, x='credit_score', y='loan_int_rate', hue='previous_loan_defaults_on_file', palette='Set1', s=100)
sns.regplot(data=df, x='credit_score', y='loan_int_rate', scatter=False, color='gray')
plt.title('Interest Rate vs Credit Score (Colored by Default History)')
plt.xlabel('Credit Score')
plt.ylabel('Interest Rate (%)')
plt.grid(True, linestyle='--', alpha=0.6)
plt.legend(title='Previous Defaults')
plt.show()
plt.figure(figsize=(6, 5))
sns.boxplot(data=df, y='loan_percent_income', color='lightcoral')
plt.title('Loan as Percentage of Income')
plt.ylabel('Loan % of Income')
plt.show()
pd.crosstab(df['previous_loan_defaults_on_file'], df['loan_status']).plot(kind='bar', stacked=True, figsize=(7,5), color=['salmon', 'lightgreen'])
plt.title('Loan Status by Previous Default History')
plt.xlabel('Previous Defaults on File')
plt.ylabel('Count')
plt.legend(title='Loan Status', labels=['Rejected', 'Approved'])
plt.xticks(rotation=0)
plt.show()
import plotly.express as px

fig = px.scatter(df, 
                 x='person_income', 
                 y='loan_amnt', 
                 color='loan_status',
                 size='credit_score',
                 hover_data=['person_age', 'person_education', 'loan_intent'],
                 title='Interactive: Loan Amount vs Income (Hover for Details)')
fig.update_layout(xaxis_title='Income', yaxis_title='Loan Amount')
fig.show()
# stop here
sns.barplot(x='person_home_ownership', y='loan_int_rate', data=df,hue='loan_risk_category')
plt.title('Interest Rate by Loan Risk Category')
plt.show()
sns.barplot(x='loan_risk_category', y='loan_int_rate', data=df)
plt.title('Interest Rate by Loan Risk Category')
plt.show()

plt.figure(figsize=(14,6))
sns.countplot(x='credit_score_group', hue='loan_risk_category', data=df)
plt.show()
plt.figure(figsize=(10,6))
sns.boxplot(data=df, x='loan_risk_category', y='income_emp_ratio', hue='loan_status', palette='Set2')
plt.title('Income per Employment Year by Risk Category & Status')
plt.ylabel('Income per Year of Experience ($)')
plt.xlabel('Risk Category')
plt.yscale('log')  # Often skewed — log scale helps
plt.grid(axis='y', linestyle='--', alpha=0.7)
plt.show()
Stable income (high ratio) → lower risk? Higher approval? 
fig, axes = plt.subplots(1, 2, figsize=(14, 6))

sns.histplot(data=df, x='emp_stability', hue='loan_status', kde=True, ax=axes[0], palette='Set1')
axes[0].set_title('Employment Stability Distribution by Loan Status')
axes[0].set_xlabel('Years Employed / Age')

sns.boxplot(data=df, x='loan_risk_category', y='emp_stability', ax=axes[1], palette='Pastel1')
axes[1].set_title('Employment Stability by Risk Category')
axes[1].set_xlabel('Risk Category')

plt.tight_layout()
plt.show()
More stable employment → lower risk? Validate with stats later.
plt.figure(figsize=(15,6))
sns.countplot(x='loan_intent', hue='loan_risk_category', data=df)
plt.show()

sns.countplot(x='person_education', hue='loan_risk_category', data=df)
plt.show()

sns.countplot(x='person_home_ownership', hue='person_gender', data=df)
plt.title('Home Ownership by Gender')
plt.show()

sns.countplot(x='person_education', hue='person_home_ownership', data=df)
plt.title('Education vs Home Ownership')
plt.show()

from plotly.offline import iplot

# Group mapping
edu_credit = df.groupby(['person_education', 'credit_score_group']).size().reset_index(name='count')

labels = list(set(edu_credit['person_education'])) + list(set(edu_credit['credit_score_group']))
label_dict = {label: idx for idx, label in enumerate(labels)}

source = [label_dict[row['person_education']] for _, row in edu_credit.iterrows()]
target = [label_dict[row['credit_score_group']] for _, row in edu_credit.iterrows()]
value = edu_credit['count'].tolist()

fig = go.Figure(data=[go.Sankey(
    node=dict(
        pad=15,
        thickness=20,
        line=dict(color="black", width=0.5),
        label=labels,
        color="lightblue"
    ),
    link=dict(
        source=source,
        target=target,
        value=value,
        color='rgba(100, 150, 250, 0.4)'
    )
)])

fig.update_layout(title_text="Education → Credit Score Group Flow", font_size=12)
fig.show()
Shows which education levels lead to which credit tiers — useful for underwriting policy
fig, axes = plt.subplots(1, 2, figsize=(14, 5))

# Approval Rate
home_approval = df.groupby('person_home_ownership')['loan_status'].mean().reset_index()
bars1 = axes[0].bar(home_approval['person_home_ownership'], home_approval['loan_status'], color='lightgreen', edgecolor='black')
axes[0].set_title('Approval Rate by Home Ownership')
axes[0].set_ylabel('Approval Rate')
axes[0].set_ylim(0,1)
for bar in bars1:
    height = bar.get_height()
    axes[0].text(bar.get_x() + bar.get_width()/2., height + 0.01, f'{height:.2f}', 
                 ha='center', va='bottom', fontweight='bold')

# Default History Crosstab
pd.crosstab(df['person_home_ownership'], df['previous_loan_defaults_on_file']).plot(kind='bar', stacked=True, ax=axes[1], colormap='Set1')
axes[1].set_title('Default History by Home Ownership')
axes[1].set_ylabel('Count')
axes[1].legend(title='Previous Defaults')

plt.tight_layout()
plt.show()
intent_risk = df.groupby(['loan_intent', 'loan_risk_category'])['loan_int_rate'].mean().unstack()

plt.figure(figsize=(10,6))
sns.heatmap(intent_risk, annot=True, fmt='.2f', cmap='RdYlGn_r', cbar_kws={'label': 'Avg Interest Rate (%)'})
plt.title('Average Interest Rate by Loan Purpose & Risk Category')
plt.xlabel('Risk Category')
plt.ylabel('Loan Purpose')
plt.show()
Debtconsolidation  carry higher rates if labeled high risk. when label is hight the Loan interest rate  increase 
fig = px.treemap(df, 
                 path=[px.Constant("All Loans"), 'loan_intent', 'loan_risk_category'], 
                 values='loan_amnt',
                 color='loan_int_rate',
                 hover_data=['credit_score', 'person_income'],
                 color_continuous_scale='RdBu',
                 title='Loan Portfolio Breakdown by Purpose & Risk (Color = Avg Interest Rate)')
fig.update_traces(textinfo="label+value")
fig.update_layout(margin=dict(t=50, l=25, r=25, b=25))
fig.show()
g = sns.FacetGrid(df, col='age_group', row='income_group', hue='loan_risk_category', 
                  height=4, aspect=1.2, palette='Set1', margin_titles=True)
g.map(sns.scatterplot, 'credit_score', 'loan_int_rate', alpha=0.7, s=50)
g.add_legend(title='Risk Category')
g.set_axis_labels('Credit Score', 'Interest Rate (%)')
g.fig.suptitle('Interest Rate vs Credit Score — Segmented by Age & Income Group', y=1.03, fontsize=16)
plt.show()
# Data Preparation for Modeling
# drop least important features
df.drop(columns=['person_gender','person_education','credit_score','credit_score_group'],axis=1,inplace=True)
#### Handle object data
cat_cols = df.select_dtypes(include=['object','category']).columns
df[cat_cols].nunique()
df['loan_risk_category'] = df['loan_risk_category'].map({'Low Risk':0,'Medium Risk':1,'High Risk':2})
df['income_group'] = df['income_group'].map({'Very Low':0,'Low':1,'Medium':2,'High':3,'Very High':4})
df['previous_loan_defaults_on_file'] = df['previous_loan_defaults_on_file'].map({'Yes':1,'No':0})
df=pd.get_dummies(df,columns=['person_home_ownership','loan_intent','age_group'],drop_first=True)
df = df.replace({True: 1, False: 0})
df.shape
df.head()
# Split & Standardizing The Data

from sklearn.metrics import accuracy_score,f1_score,confusion_matrix,classification_report
from sklearn.model_selection import train_test_split
from sklearn.preprocessing import StandardScaler,RobustScaler
from sklearn.linear_model import LogisticRegression
x=df.drop('loan_status',axis=1)
y=df['loan_status']

x_train, x_test, y_train, y_test = train_test_split(x, y, test_size=0.2, random_state=42, stratify=y)
scaler = StandardScaler()
scaler.fit(x_train)
x_train = scaler.transform(x_train)
x_test = scaler.transform(x_test)

x_train.shape, x_test.shape, y_train.shape, y_test.shape
# =============================================================================
# Modelling
# =============================================================================

###first model Logistic Regression
model = LogisticRegression()
model.fit(x_train,y_train)
y_pred=model.predict(x_test)
### Evaluation
print("Accuracy:", accuracy_score(y_test, y_pred))
print("F1 Score:", f1_score(y_test, y_pred))
print(f"acuuuracy for train model is {model.score(x_train,y_train)}")
print(f"acuuuracy for test model is {model.score(x_test,y_test)}")

model.get_params()
cals_report=classification_report(y_test,y_pred)

print(f'classification report:{cals_report} ')

cm = confusion_matrix(y_test, y_pred)
print(cm)
plt.figure(figsize=(15,5))
plt.subplot(1, 2, 1)
sns.heatmap(cm, annot=True, cmap='PuBu')
plt.title(f'logistic regression- Confution Metrics', fontsize=15)

plt.subplot(1, 2, 2)
sns.kdeplot(y_test.values, color='black', label='Actual Values')
sns.kdeplot(y_pred, color='skyblue',label='Predicted Values')
plt.title(f'logistic regression - Actual Vs Predicted', fontsize=15)
plt.legend()
plt.show()
# =============================================================================
# Handel imbalance 
# =============================================================================

with class weight
from sklearn.linear_model import LogisticRegression
from sklearn.metrics import accuracy_score,classification_report,confusion_matrix
model5=LogisticRegression(class_weight='balanced')
model5.fit(x_train,y_train)
y_pred1=model5.predict(x_test)
accuracyModel1=accuracy_score(y_test,y_pred1)
print(f"accuracy of the model is {accuracyModel1}")
print(f"acuuuracy for train model is {model5.score(x_train,y_train)}")
print(f"acuuuracy for test model is {model5.score(x_test,y_test)}")
# =============================================================================
# Oversampling 
# =============================================================================

from imblearn.over_sampling import SMOTE
# Oversample Minority Class
ros = SMOTE()
X_resampled, y_resampled = ros.fit_resample(x_train, y_train)
X_resampled.shape
x_test.shape
model1 = LogisticRegression(C=0.001,solver='newton-cg')
model1.fit(X_resampled,y_resampled)
y_pred=model1.predict(x_test)
### Evaluation
print("Accuracy:", accuracy_score(y_test, y_pred))
print("F1 Score:", f1_score(y_test, y_pred))
print(f"acuuuracy for train model is {model1.score(X_resampled,y_resampled)}")
print(f"acuuuracy for test model is {model1.score(x_test,y_test)}")
cals_report=classification_report(y_test,y_pred)

print(f'classification report:{cals_report} ')
print('_' * 50)
print()

cm = confusion_matrix(y_test, y_pred)
print(cm)
plt.figure(figsize=(15,5))
plt.subplot(1, 2, 1)
sns.heatmap(cm, annot=True, cmap='PuBu')
plt.title(f'Naive Bayes- Confution Metrics', fontsize=15)

plt.subplot(1, 2, 2)
sns.kdeplot(y_test.values, color='black', label='Actual Values')
sns.kdeplot(y_pred, color='skyblue',label='Predicted Values')
plt.title(f'Naive Bayes- Actual Vs Predicted', fontsize=15)
plt.legend()
plt.show()
#### naive bayes
from sklearn.naive_bayes import GaussianNB
model2 = GaussianNB()
model2.fit(X_resampled,y_resampled)
y_pred2=model2.predict(x_test)
### Evaluation
print("Accuracy:", accuracy_score(y_test, y_pred2))
print(f"acuuuracy for train model2 is {model2.score(X_resampled,y_resampled)}")
print(f"acuuuracy for test model2 is {model2.score(x_test,y_test)}")


cals_report=classification_report(y_test,y_pred2)

print(f'classification report:{cals_report} ')
print('_' * 50)
print()

cm = confusion_matrix(y_test, y_pred2)
plt.figure(figsize=(15,5))
plt.subplot(1, 2, 1)
sns.heatmap(cm, annot=True, cmap='PuBu')
plt.title(f'Naive Bayes- Confution Metrics', fontsize=15)

plt.subplot(1, 2, 2)
sns.kdeplot(y_test.values, color='black', label='Actual Values')
sns.kdeplot(y_pred2, color='skyblue',label='Predicted Values')
plt.title(f'Naive Bayes- Actual Vs Predicted', fontsize=15)
plt.legend()
plt.show()
from sklearn.naive_bayes import BernoulliNB
model3 = BernoulliNB()
model3.fit(X_resampled,y_resampled)
y_pred3=model3.predict(x_test)
### Evaluation
print("Accuracy:", accuracy_score(y_test, y_pred3))
print(f"acuuuracy for train model3 is {model3.score(X_resampled,y_resampled)}")
print(f"acuuuracy for test model3 is {model3.score(x_test,y_test)}")

cals_report=classification_report(y_test,y_pred3)

print(f'classification report:{cals_report} ')
print('_' * 50)
print()

cm = confusion_matrix(y_test, y_pred3)
print(cm)
plt.figure(figsize=(15,5))
plt.subplot(1, 2, 1)
sns.heatmap(cm, annot=True, cmap='PuBu')
plt.title(f'Naive Bayes- Confution Metrics', fontsize=15)

plt.subplot(1, 2, 2)
sns.kdeplot(y_test.values, color='black', label='Actual Values')
sns.kdeplot(y_pred3, color='skyblue',label='Predicted Values')
plt.title(f'Naive Bayes- Actual Vs Predicted', fontsize=15)
plt.legend()
plt.show()
from sklearn.svm import SVC
model4=SVC(kernel='rbf',C=0.01,max_iter=5000)
model4.fit(X_resampled,y_resampled)
y_pred4=model4.predict(x_test)
acc=accuracy_score(y_test,y_pred4)
print(acc)
print(f"acuuuracy for train model is {model4.score(X_resampled,y_resampled)}")
print(f"acuuuracy for test model is {model4.score(x_test,y_test)}")
from sklearn.neighbors import KNeighborsClassifier
KNN=KNeighborsClassifier(n_neighbors=3)
KNN.fit(X_resampled,y_resampled)
y_pred=KNN.predict(x_test)
print("Accurancy:",accuracy_score(y_test,y_pred))
print(f"acuuuracy for train model is {KNN.score(X_resampled,y_resampled)}")
print(f"acuuuracy for test model is {KNN.score(x_test,y_test)}")
#### ensamble methods 
###
from sklearn.tree import DecisionTreeClassifier
model7=DecisionTreeClassifier(max_depth=5,max_features=15,criterion='entropy',min_samples_split=10)
model7.fit(X_resampled,y_resampled)
y_pred7=model7.predict(x_test)
acc=accuracy_score(y_test,y_pred7)
print(f'Accuracy Score: {acc:.2f}')
print(f"acuuuracy for train model is {model7.score(X_resampled,y_resampled)}")
print(f"acuuuracy for test model is {model7.score(x_test,y_test)}")

model7.get_params()
##random forest
from sklearn.ensemble import RandomForestClassifier
model8=RandomForestClassifier(n_estimators=100,max_depth=4,max_features=15,criterion='entropy',min_samples_split=10)
model8.fit(X_resampled,y_resampled)
y_pred8=model8.predict(x_test)
acc=accuracy_score(y_test,y_pred8)
print(f'Accuracy Score: {acc:.2f}')
print(f"acuuuracy for train model is {model8.score(X_resampled,y_resampled)}")
print(f"acuuuracy for test model is {model8.score(x_test,y_test)}")
cals_report=classification_report(y_test,y_pred8)
acc=accuracy_score(y_test,y_pred8)
print(f'Accuracy Score: {acc:.2f}')
print(f'confusion matrix:\n {confusion_matrix(y_test,y_pred8)}')
print(f'classification report:{cals_report} ')
print('_' * 50)
print()

cm = confusion_matrix(y_test, y_pred8)
plt.figure(figsize=(15,5))
plt.subplot(1, 2, 1)
sns.heatmap(cm, annot=True, cmap='PuBu')
plt.title(f'Random forest-Confution Metrics', fontsize=15)

plt.subplot(1, 2, 2)
sns.kdeplot(y_test.values, color='black', label='Actual Values')
sns.kdeplot(y_pred8, color='skyblue',label='Predicted Values')
plt.title(f'Random forest - Actual Vs Predicted', fontsize=15)
plt.legend()
plt.show()
from xgboost import XGBClassifier
XG=XGBClassifier()
XG.fit(X_resampled,y_resampled)
y_pred9=XG.predict(x_test)
acc=accuracy_score(y_test,y_pred9)
print(f'Accuracy Score: {acc:.2f}')
cals_report=classification_report(y_test,y_pred9)
acc=accuracy_score(y_test,y_pred9)
print(f'Accuracy Score: {acc:.2f}')
print(f'confusion matrix:\n {confusion_matrix(y_test,y_pred9)}')
print(f'classification report:{cals_report} ')
print('_' * 50)
print()

cm = confusion_matrix(y_test, y_pred9)
plt.figure(figsize=(15,5))
plt.subplot(1, 2, 1)
sns.heatmap(cm, annot=True, cmap='PuBu')
plt.title(f'XGBoosting -Confution Metrics', fontsize=15)

plt.subplot(1, 2, 2)
sns.kdeplot(y_test.values, color='black', label='Actual Values')
sns.kdeplot(y_pred9, color='skyblue',label='Predicted Values')
plt.title(f'XGBoosting - Actual Vs Predicted', fontsize=15)
plt.legend()
plt.show()
X_resampled=pd.DataFrame(X_resampled,columns=x.columns)
X_resampled

x_test=pd.DataFrame(x_test,columns=x.columns)

from xgboost import XGBClassifier
XG=XGBClassifier()
XG.fit(X_resampled,y_resampled)
y_pred9=XG.predict(x_test)
acc=accuracy_score(y_test,y_pred9)
print(f'Accuracy Score: {acc:.2f}')
importance_dict = XG.get_booster().get_score(importance_type='gain')

# Create DataFrame and sort
importance_df = pd.DataFrame({
    'Feature': list(importance_dict.keys()),
    'Importance (Gain)': list(importance_dict.values())
}).sort_values('Importance (Gain)', ascending=False)  # Sort DESC

# Show top 20
importance_df = importance_df.head(20)
import plotly.express as px
import plotly.graph_objects as go

# Create horizontal bar chart (best for feature names)
fig = px.bar(
    importance_df,
    x='Importance (Gain)',
    y='Feature',
    orientation='h',
    color='Importance (Gain)',
    color_continuous_scale='Blues',  # Professional blue gradient
    title='🔝 Top 20 Features Driving Loan Approval — XGBoost Model',
    height=800,
    text='Importance (Gain)'  # Show values on bars
)

# Flip y-axis so most important is on top
fig.update_layout(
    yaxis={'categoryorder':'total ascending'},  # Most important at top
    title_font_size=22,
    title_font_color='#2E86AB',
    xaxis_title="Feature Importance (Total Gain)",
    yaxis_title="Feature Name",
    template="plotly_white",
    font=dict(size=14),
    hoverlabel=dict(bgcolor="white", font_size=14, font_family="Arial")
)

# Format text on bars
fig.update_traces(
    texttemplate='%{text:.3f}',
    textposition='outside',
    marker_line_color='rgb(8,48,107)',
    marker_line_width=1.5
)

# Add grid
fig.update_xaxes(showgrid=True, gridwidth=1, gridcolor='LightGray')
fig.update_yaxes(showgrid=True, gridwidth=1, gridcolor='LightGray')

# Show plot
fig.show()
from yellowbrick.classifier import ROCAUC
from sklearn.model_selection import cross_val_score
from sklearn.ensemble import AdaBoostClassifier, BaggingClassifier, GradientBoostingClassifier,RandomForestClassifier
from sklearn.tree import DecisionTreeClassifier, ExtraTreeClassifier
from sklearn.neighbors import KNeighborsClassifier
from xgboost import XGBClassifier
mod = []
cv_score=[]
model =[AdaBoostClassifier(), BaggingClassifier(), GradientBoostingClassifier(), ExtraTreeClassifier(), RandomForestClassifier()]
for m in model:
    cv_score.append(cross_val_score(m, X_resampled, y_resampled, scoring='accuracy', cv=5).mean())
    mod.append(m)
model_df=pd.DataFrame(columns=['model','cv_score'])
model_df['model']=mod
model_df['cv_score']=cv_score
model_df.sort_values(by=['cv_score'], ascending=True).style.background_gradient(subset=['cv_score'])

from catboost import CatBoostClassifier
model_cat=CatBoostClassifier(iterations=300,learning_rate=0.03,depth=8,eval_metric="Accuracy",verbose=50,random_state=0)
model_cat.fit(X_resampled,y_resampled)
y_pred10=model_cat.predict(x_test)
acc=accuracy_score(y_test,y_pred10)
print(f'Accuracy Score: {acc:.2f}')
# Import necessary libraries
cals_report=classification_report(y_test,y_pred10)
acc=accuracy_score(y_test,y_pred10)
print(f'Accuracy Score: {acc:.2f}')
print(f'confusion matrix:\n {confusion_matrix(y_test,y_pred10)}')
from sklearn.linear_model import LogisticRegression,RidgeClassifier,SGDClassifier,PassiveAggressiveClassifier
from sklearn.linear_model import Perceptron
from sklearn.svm import SVC,LinearSVC,NuSVC
from sklearn.neighbors import KNeighborsClassifier,NearestCentroid
from sklearn.tree import DecisionTreeClassifier
from sklearn.ensemble import RandomForestClassifier,AdaBoostClassifier,GradientBoostingClassifier
from sklearn.naive_bayes import GaussianNB,BernoulliNB
from sklearn.ensemble import VotingClassifier
from warnings import filterwarnings

from sklearn.metrics import accuracy_score,classification_report,confusion_matrix,precision_score,recall_score,f1_score
# filterwarnings('ignore')
# models =[("LR", LogisticRegression(max_iter=1000)),('KNN',KNeighborsClassifier(n_neighbors=10)),
#          ("DTC", DecisionTreeClassifier()),("GNB", GaussianNB()),
#         ("SGDC", SGDClassifier()),("Perc", Perceptron()),("NC",NearestCentroid()),
#         ("Ridge", RidgeClassifier()),("NuSVC", NuSVC()),("BNB", BernoulliNB()),
#          ('RF',RandomForestClassifier()),('ADA',AdaBoostClassifier()),
#         ('XGB',GradientBoostingClassifier()),('PAC',PassiveAggressiveClassifier())]

# results = []
# names = []
# finalResults = []

# for name,model in models:
#     model.fit(X_resampled, y_resampled)
#     model_results = model.predict(x_test)
#     score = recall_score(y_test, model_results,average='macro')
#     results.append(score)
#     names.append(name)
#     finalResults.append((name,score))
    
# finalResults.sort(key=lambda k:k[1],reverse=True)
# finalResults
# =============================================================================
# 6. ROC CURVE COMPARISON
# =============================================================================

from sklearn.metrics import roc_curve, auc
import matplotlib.pyplot as plt

models = {
    "Random Forest": model8,
    "Logistic Regression": model1,
    'Decison tree':model7,
    'XGoost':XG,
    'Catboost':model_cat,
    'KNN':KNN,
    'Naive Bayes': model2,
    'BernoulliNB': model3,
    
    
}

plt.figure(figsize=(10, 6))

for name, model in models.items():
    y_probs = model.predict_proba(x_test)[:, 1]  
    fpr, tpr, _ = roc_curve(y_test, y_probs)
    roc_auc = auc(fpr, tpr)
    
    plt.plot(fpr, tpr, label=f"{name} (AUC = {roc_auc:.2f})")

plt.plot([0, 1], [0, 1], 'k--', label=" ")

plt.title("ROC Curve for All Models")
plt.xlabel("False Positive Rate")
plt.ylabel("True Positive Rate")
plt.legend()
plt.grid(True)
plt.show()
import lightgbm as lgb
from sklearn.model_selection import train_test_split
from sklearn.metrics import classification_report



#LightGBM
train_data = lgb.Dataset(x_train, label=y_train)
test_data = lgb.Dataset(x_test, label=y_test, reference=train_data)

#Focal Loss
params = {
    'objective': 'binary',          
    'metric': 'binary_logloss',
    'boosting_type': 'gbdt',
    'learning_rate': 0.1,
    'num_leaves': 31,
    'feature_fraction': 0.9,
    'bagging_fraction': 0.8,
    'bagging_freq': 5,
    'verbose': -1,
    # --- Focal Loss Parameters ---
    'focal_loss_alpha': 0.25,      
    'focal_loss_gamma': 2.0        
}

model6 = lgb.train(
    params,
    train_data,
    num_boost_round=100,
    valid_sets=[test_data],
    callbacks=[lgb.early_stopping(10)]
)

y_pred_proba = model6.predict(x_test)
y_pred = (y_pred_proba > 0.5).astype(int)

print(classification_report(y_test, y_pred))
# =============================================================================
# Deep Learning Models 
# =============================================================================
